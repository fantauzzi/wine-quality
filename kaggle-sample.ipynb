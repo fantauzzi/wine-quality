{
 "cells": [
  {
   "cell_type": "code",
   "execution_count": 1,
   "metadata": {},
   "outputs": [
    {
     "name": "stdout",
     "output_type": "stream",
     "text": [
      "sklearn decision tree, training error: 0.000000\n",
      "sklearn decision tree, testing error: 0.549884\n",
      "sklearn linear regression, training error: 0.586033\n",
      "sklearn linear regression, testing error: 0.572682\n"
     ]
    },
    {
     "name": "stderr",
     "output_type": "stream",
     "text": [
      "/home/fanta/.local/python3.5/lib/python3.5/site-packages/sklearn/cross_validation.py:41: DeprecationWarning: This module was deprecated in version 0.18 in favor of the model_selection module into which all the refactored classes and functions are moved. Also note that the interface of the new CV iterators are different from that of this module. This module will be removed in 0.20.\n",
      "  \"This module will be removed in 0.20.\", DeprecationWarning)\n"
     ]
    }
   ],
   "source": [
    "#!/usr/bin/env python\n",
    "\n",
    "import pandas\n",
    "import sklearn.tree\n",
    "import sklearn.cross_validation\n",
    "import sklearn.linear_model\n",
    "import sklearn.metrics\n",
    "\n",
    "# Read in CSV data for training:\n",
    "data = pandas.read_csv(\"/home/fanta/.kaggle/competitions/uci-wine-quality-dataset/winequality-data.csv\")\n",
    "\n",
    "# Split into inputs & outputs, training & test:\n",
    "X_train, X_test, y_train, y_test = sklearn.cross_validation.train_test_split(\n",
    "    data.drop([\"id\", \"quality\"], axis=1), # input attributes\n",
    "    data[\"quality\"], # outputs\n",
    "    test_size = 0.33, # 1/3 of data is for testing\n",
    "    random_state = 12345)\n",
    "\n",
    "# (See also: http://scikit-learn.org/stable/modules/cross_validation.html)\n",
    "\n",
    "# Fit a decision tree on all training data:\n",
    "tree = sklearn.tree.DecisionTreeRegressor()\n",
    "tree = tree.fit(X_train, y_train)\n",
    "\n",
    "# Compute training error and testing error on this:\n",
    "print(\"sklearn decision tree, training error: %f\" %\n",
    "      sklearn.metrics.mean_absolute_error(y_train, tree.predict(X_train)))\n",
    "print(\"sklearn decision tree, testing error: %f\" %\n",
    "      sklearn.metrics.mean_absolute_error(y_test, tree.predict(X_test)))\n",
    "\n",
    "# Fit linear regression on all training data:\n",
    "lr = sklearn.linear_model.LinearRegression()\n",
    "lr.fit(X_train, y_train)\n",
    "\n",
    "# Compute training error and testing error, this time on the linear\n",
    "# regression model:\n",
    "print(\"sklearn linear regression, training error: %f\" %\n",
    "      sklearn.metrics.mean_absolute_error(y_train, lr.predict(X_train)))\n",
    "print(\"sklearn linear regression, testing error: %f\" %\n",
    "      sklearn.metrics.mean_absolute_error(y_test, lr.predict(X_test)))\n",
    "\n",
    "# Read in CSV for solution input:\n",
    "soln = pandas.read_csv(\"/home/fanta/.kaggle/competitions/uci-wine-quality-dataset/winequality-solution-input.csv\")\n",
    "\n",
    "# Compute predictions for solution input for decision tree & linear\n",
    "# regression:\n",
    "soln_predict_tree = tree.predict(soln.drop(\"id\", axis=1))\n",
    "soln_predict_lr = lr.predict(soln.drop(\"id\", axis=1))\n",
    "\n",
    "# Format as a submission and write as a CSV:\n",
    "submission = pandas.DataFrame(index = soln[\"id\"],\n",
    "                              data = {'quality': soln_predict_tree})\n",
    "submission.to_csv(\"winequality-submission-tree.csv\", index_label = \"id\")\n",
    "submission = pandas.DataFrame(index = soln[\"id\"],\n",
    "                              data = {'quality': soln_predict_lr})\n",
    "submission.to_csv(\"winequality-submission-lr.csv\", index_label = \"id\")"
   ]
  },
  {
   "cell_type": "code",
   "execution_count": null,
   "metadata": {},
   "outputs": [],
   "source": []
  }
 ],
 "metadata": {
  "kernelspec": {
   "display_name": "Python 3",
   "language": "python",
   "name": "python3"
  },
  "language_info": {
   "codemirror_mode": {
    "name": "ipython",
    "version": 3
   },
   "file_extension": ".py",
   "mimetype": "text/x-python",
   "name": "python",
   "nbconvert_exporter": "python",
   "pygments_lexer": "ipython3",
   "version": "3.5.2"
  }
 },
 "nbformat": 4,
 "nbformat_minor": 2
}
